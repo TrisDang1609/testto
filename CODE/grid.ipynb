{
 "cells": [
  {
   "cell_type": "code",
   "execution_count": 13,
   "metadata": {},
   "outputs": [],
   "source": [
    "import keras_tuner\n",
    "import keras"
   ]
  },
  {
   "cell_type": "code",
   "execution_count": 14,
   "metadata": {},
   "outputs": [],
   "source": [
    "def build_model(hp):\n",
    "    model = keras.Sequential()\n",
    "    model.add(keras.layers.Dense(hp.Choice(\"units\", [8, 16, 32]), activation=\"relu\"))\n",
    "    model.add(keras.layers.Dense(hp.Choice(\"units\", [8, 16, 32]), activation=\"relu\"))\n",
    "    model.add(keras.layers.Dense(hp.Choice(\"units\", [8, 16, 32]), activation=\"relu\"))\n",
    "    model.add(keras.layers.Dense(hp.Choice(\"units\", [8, 16, 32]), activation=\"relu\"))\n",
    "    model.add(keras.layers.Dense(hp.Choice(\"units\", [1]), activation=\"sigmoid\"))\n",
    "    model.compile(loss=\"binary_crossentropy\", optimizer=\"adam\", metrics=[\"accuracy\"])\n",
    "    model.compile(loss=\"mse\")\n",
    "\n",
    "    return model"
   ]
  },
  {
   "cell_type": "code",
   "execution_count": 15,
   "metadata": {},
   "outputs": [],
   "source": [
    "tuner = keras_tuner.RandomSearch(build_model, objective=\"val_loss\", max_trials=5)"
   ]
  },
  {
   "cell_type": "code",
   "execution_count": 19,
   "metadata": {},
   "outputs": [],
   "source": [
    "import pandas as pd\n",
    "data = pd.read_csv(\"E:/AI/PROJECT_1_DIABETE/DATA/Dataset_challenge.csv\")\n",
    "X_data = data.drop(columns=[\"Outcome\"])\n",
    "y_data = data[\"Outcome\"]\n",
    "X_data = normalize_data(X_data)"
   ]
  },
  {
   "cell_type": "code",
   "execution_count": 21,
   "metadata": {},
   "outputs": [],
   "source": [
    "X_train = X_data.iloc[1:594]\n",
    "X_test = X_data.iloc[595:]\n",
    "y_train = y_data.iloc[1:594]\n",
    "y_test = y_data.iloc[595:]\n"
   ]
  },
  {
   "cell_type": "code",
   "execution_count": 17,
   "metadata": {},
   "outputs": [],
   "source": [
    "def normalize_data(data):\n",
    "    if isinstance(data, pd.DataFrame):\n",
    "        normalized_df = data.copy()\n",
    "        for column in data.columns:\n",
    "            max_value = data[column].max()\n",
    "            normalized_df[column] = data[column] / max_value\n",
    "        return normalized_df\n",
    "    else:\n",
    "        max_value = data.max()\n",
    "        normalized_series = data / max_value\n",
    "        return normalized_series"
   ]
  },
  {
   "cell_type": "code",
   "execution_count": 23,
   "metadata": {},
   "outputs": [
    {
     "name": "stdout",
     "output_type": "stream",
     "text": [
      "Trial 3 Complete [00h 00m 01s]\n",
      "val_loss: 0.23580127954483032\n",
      "\n",
      "Best val_loss So Far: 0.23442377150058746\n",
      "Total elapsed time: 00h 00m 03s\n"
     ]
    }
   ],
   "source": [
    "tuner.search(X_train, y_train, epochs=5, validation_data=(X_test, y_test))\n",
    "best_model = tuner.get_best_models()[0]"
   ]
  }
 ],
 "metadata": {
  "kernelspec": {
   "display_name": "base",
   "language": "python",
   "name": "python3"
  },
  "language_info": {
   "codemirror_mode": {
    "name": "ipython",
    "version": 3
   },
   "file_extension": ".py",
   "mimetype": "text/x-python",
   "name": "python",
   "nbconvert_exporter": "python",
   "pygments_lexer": "ipython3",
   "version": "3.11.7"
  }
 },
 "nbformat": 4,
 "nbformat_minor": 2
}
